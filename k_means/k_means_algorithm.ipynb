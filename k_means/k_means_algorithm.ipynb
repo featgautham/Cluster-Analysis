{
  "nbformat": 4,
  "nbformat_minor": 0,
  "metadata": {
    "colab": {
      "name": "k-means_algorithm.ipynb",
      "provenance": [],
      "collapsed_sections": [],
      "toc_visible": true
    },
    "kernelspec": {
      "name": "python3",
      "display_name": "Python 3"
    }
  },
  "cells": [
    {
      "cell_type": "markdown",
      "metadata": {
        "id": "S57LGTPXtMpe",
        "colab_type": "text"
      },
      "source": [
        "# K-means clustering\n",
        "\n",
        "K-means clustering is one of the simplest and popular unsupervised machine learning algorithms. The objective of K-means is simple: group similar data points together and discover underlying patterns. To achieve this objective, K-means looks for a fixed number (k) of clusters in a dataset. The K-means algorithm identifies k number of centroids, and then allocates every data point to the nearest cluster, while keeping the centroids as small as possible. The ‘means’ in the K-means refers to averaging of the data; that is, finding the centroid."
      ]
    },
    {
      "cell_type": "markdown",
      "metadata": {
        "id": "a0PpBf7e4Icz",
        "colab_type": "text"
      },
      "source": [
        "## Data\n",
        "\n",
        "The input file (\"places.txt\") consists of the locations of 300 places in the US. Each location is a two-dimensional point that represents the longitude and latitude of the place. For example, \"-112.1,33.5\" means the longitude of the place is -112.1, and the latitude is 33.5."
      ]
    },
    {
      "cell_type": "markdown",
      "metadata": {
        "id": "gmxpauxW2s7E",
        "colab_type": "text"
      },
      "source": [
        "Read the text file into a list of lists and then transform it as an array for input to K-means clustering algorithm."
      ]
    },
    {
      "cell_type": "code",
      "metadata": {
        "id": "xTuGQiTV0q4A",
        "colab_type": "code",
        "outputId": "825aa3b5-3924-4418-80e6-5e677988274e",
        "colab": {
          "base_uri": "https://localhost:8080/",
          "height": 103
        }
      },
      "source": [
        "import numpy as np\n",
        "\n",
        "main_list = [i.strip('\\n').split(',') for i in open('places.txt')]\n",
        "\n",
        "main_array = np.array(main_list)\n",
        "main_array[:5]"
      ],
      "execution_count": 1,
      "outputs": [
        {
          "output_type": "execute_result",
          "data": {
            "text/plain": [
              "array([['-112.0707922', '33.4516246'],\n",
              "       ['-112.0655423', '33.4492979'],\n",
              "       ['-112.0739312', '33.4564905'],\n",
              "       ['-112.0748658', '33.4701155'],\n",
              "       ['-80.5256905', '43.4770992']], dtype='<U14')"
            ]
          },
          "metadata": {
            "tags": []
          },
          "execution_count": 1
        }
      ]
    },
    {
      "cell_type": "markdown",
      "metadata": {
        "id": "ZFCw00uQ3x6t",
        "colab_type": "text"
      },
      "source": [
        "## Clustering\n",
        "Implement the k-means algorithm and use it to cluster the 300 locations into three clusters, such that the locations in the same cluster are geographically close to each other. After reading in the 300 locations in \"places.txt\" and applying the k-means algorithm (with k = 3), generate an output file named \"clusters.txt\"."
      ]
    },
    {
      "cell_type": "code",
      "metadata": {
        "id": "VvYxsWuk1cN5",
        "colab_type": "code",
        "colab": {}
      },
      "source": [
        "from sklearn.cluster import KMeans\n",
        "\n",
        "clustering = KMeans(n_clusters=3, random_state=0).fit(main_array)"
      ],
      "execution_count": 0,
      "outputs": []
    },
    {
      "cell_type": "code",
      "metadata": {
        "id": "UzJe5Tsw1xeF",
        "colab_type": "code",
        "outputId": "e649b637-ffbb-4bcd-e6c8-1126a6b96825",
        "colab": {
          "base_uri": "https://localhost:8080/",
          "height": 259
        }
      },
      "source": [
        "clustering.labels_"
      ],
      "execution_count": 3,
      "outputs": [
        {
          "output_type": "execute_result",
          "data": {
            "text/plain": [
              "array([0, 0, 0, 0, 1, 1, 2, 0, 0, 2, 0, 2, 1, 0, 2, 2, 2, 0, 2, 1, 1, 1,\n",
              "       1, 2, 0, 1, 0, 1, 0, 0, 1, 2, 0, 0, 0, 2, 1, 0, 1, 2, 2, 2, 2, 2,\n",
              "       2, 1, 0, 2, 0, 0, 1, 2, 0, 2, 1, 2, 0, 2, 1, 2, 0, 1, 2, 0, 1, 2,\n",
              "       2, 0, 1, 2, 1, 0, 2, 1, 0, 0, 0, 2, 1, 0, 0, 2, 0, 1, 0, 0, 1, 0,\n",
              "       1, 0, 1, 1, 0, 1, 1, 1, 2, 2, 0, 0, 0, 1, 0, 0, 2, 2, 0, 1, 0, 0,\n",
              "       1, 2, 0, 1, 0, 0, 1, 0, 1, 1, 2, 2, 0, 1, 2, 1, 2, 1, 2, 1, 2, 1,\n",
              "       2, 0, 0, 1, 1, 0, 0, 1, 2, 2, 0, 1, 2, 2, 2, 0, 2, 2, 1, 2, 2, 1,\n",
              "       1, 1, 1, 1, 2, 2, 1, 0, 1, 0, 2, 1, 1, 1, 1, 1, 1, 0, 0, 2, 2, 0,\n",
              "       1, 2, 2, 1, 0, 1, 2, 2, 1, 2, 2, 1, 0, 1, 2, 2, 0, 0, 0, 2, 0, 0,\n",
              "       2, 0, 1, 0, 2, 0, 1, 2, 0, 1, 2, 2, 1, 2, 2, 0, 1, 1, 0, 1, 0, 1,\n",
              "       0, 1, 1, 1, 2, 2, 2, 0, 2, 0, 0, 2, 2, 1, 1, 2, 0, 2, 0, 2, 0, 0,\n",
              "       2, 2, 2, 2, 2, 2, 2, 0, 2, 2, 1, 1, 1, 1, 2, 0, 2, 0, 1, 0, 2, 1,\n",
              "       1, 0, 1, 0, 1, 0, 1, 2, 0, 2, 1, 1, 0, 0, 1, 1, 2, 2, 2, 2, 1, 1,\n",
              "       2, 1, 1, 0, 1, 0, 2, 0, 1, 0, 0, 0, 1, 0], dtype=int32)"
            ]
          },
          "metadata": {
            "tags": []
          },
          "execution_count": 3
        }
      ]
    },
    {
      "cell_type": "markdown",
      "metadata": {
        "id": "79JLdn0i-3a6",
        "colab_type": "text"
      },
      "source": [
        "## Output\n",
        "The output file should contain exactly 300 lines, where each line represents the cluster label of each location. Every line should be in the format: location_id cluster_label.\n",
        "\n",
        "Create an index for location_id, for the ouput."
      ]
    },
    {
      "cell_type": "code",
      "metadata": {
        "id": "_CSakSBQ2o8L",
        "colab_type": "code",
        "outputId": "9fb4dd4f-d91a-47ee-e3f5-aabb03476d98",
        "colab": {
          "base_uri": "https://localhost:8080/",
          "height": 34
        }
      },
      "source": [
        "index = list(range(300))\n",
        "index[:5]"
      ],
      "execution_count": 4,
      "outputs": [
        {
          "output_type": "execute_result",
          "data": {
            "text/plain": [
              "[0, 1, 2, 3, 4]"
            ]
          },
          "metadata": {
            "tags": []
          },
          "execution_count": 4
        }
      ]
    },
    {
      "cell_type": "markdown",
      "metadata": {
        "id": "C8fhXO_BAHEs",
        "colab_type": "text"
      },
      "source": [
        "Write the lines in the specified file to text file."
      ]
    },
    {
      "cell_type": "code",
      "metadata": {
        "id": "T0jiqFIC3ZON",
        "colab_type": "code",
        "colab": {}
      },
      "source": [
        "with open('clusters.txt', 'a') as f:\n",
        "  for i,j in zip(index, clustering.labels_):\n",
        "    f.write(str(i)+\" \"+str(j)+\"\\n\")"
      ],
      "execution_count": 0,
      "outputs": []
    }
  ]
}